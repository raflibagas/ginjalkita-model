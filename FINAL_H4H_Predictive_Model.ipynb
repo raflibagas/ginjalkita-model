{
  "nbformat": 4,
  "nbformat_minor": 0,
  "metadata": {
    "colab": {
      "provenance": [],
      "toc_visible": true
    },
    "kernelspec": {
      "name": "python3",
      "display_name": "Python 3"
    },
    "language_info": {
      "name": "python"
    }
  },
  "cells": [
    {
      "cell_type": "markdown",
      "source": [
        "# IMPORT DATASET"
      ],
      "metadata": {
        "id": "4aUldQFviw4z"
      }
    },
    {
      "cell_type": "code",
      "execution_count": null,
      "metadata": {
        "colab": {
          "base_uri": "https://localhost:8080/"
        },
        "id": "L2nYPfLQiFD4",
        "outputId": "0602fd95-085e-4d37-a253-1ed0551be69b"
      },
      "outputs": [
        {
          "output_type": "stream",
          "name": "stdout",
          "text": [
            "Mounted at /content/drive\n",
            "   PatientID  Age  Gender  Ethnicity  SocioeconomicStatus  EducationLevel  \\\n",
            "0          1   71       0          0                    0               2   \n",
            "1          2   34       0          0                    1               3   \n",
            "2          3   80       1          1                    0               1   \n",
            "3          4   40       0          2                    0               1   \n",
            "4          5   43       0          1                    1               2   \n",
            "\n",
            "         BMI  Smoking  AlcoholConsumption  PhysicalActivity  ...   Itching  \\\n",
            "0  31.069414        1            5.128112          1.676220  ...  7.556302   \n",
            "1  29.692119        1           18.609552          8.377574  ...  6.836766   \n",
            "2  37.394822        1           11.882429          9.607401  ...  2.144722   \n",
            "3  31.329680        0           16.020165          0.408871  ...  7.077188   \n",
            "4  23.726311        0            7.944146          0.780319  ...  3.553118   \n",
            "\n",
            "   QualityOfLifeScore  HeavyMetalsExposure  OccupationalExposureChemicals  \\\n",
            "0           76.076800                    0                              0   \n",
            "1           40.128498                    0                              0   \n",
            "2           92.872842                    0                              1   \n",
            "3           90.080321                    0                              0   \n",
            "4            5.258372                    0                              0   \n",
            "\n",
            "   WaterQuality  MedicalCheckupsFrequency  MedicationAdherence  \\\n",
            "0             1                  1.018824             4.966808   \n",
            "1             0                  3.923538             8.189275   \n",
            "2             1                  1.429906             7.624028   \n",
            "3             0                  3.226416             3.282688   \n",
            "4             1                  0.285466             3.849498   \n",
            "\n",
            "   HealthLiteracy  Diagnosis  DoctorInCharge  \n",
            "0        9.871449          1    Confidential  \n",
            "1        7.161765          1    Confidential  \n",
            "2        7.354632          1    Confidential  \n",
            "3        6.629587          1    Confidential  \n",
            "4        1.437385          1    Confidential  \n",
            "\n",
            "[5 rows x 54 columns]\n"
          ]
        }
      ],
      "source": [
        "from google.colab import drive\n",
        "drive.mount('/content/drive')\n",
        "\n",
        "import pandas as pd\n",
        "\n",
        "# Example path: 'drive/My Drive/data/your_dataset.xlsx'\n",
        "file_path = '/content/drive/My Drive/H4H/Chronic_Kidney_Dsease_data.csv'\n",
        "df = pd.read_csv(file_path)\n",
        "\n",
        "# Show the first few rows of the dataframe\n",
        "print(df.head())\n"
      ]
    },
    {
      "cell_type": "markdown",
      "source": [
        "# DATA CLEANING (without clinical measurement, PatientID, and DoctorInCharge)"
      ],
      "metadata": {
        "id": "xP3Lpp1fkbp7"
      }
    },
    {
      "cell_type": "code",
      "source": [
        "# List of clinical measurement variables to drop\n",
        "clinical_measurements = [\n",
        "    'SystolicBP', 'DiastolicBP', 'FastingBloodSugar', 'HbA1c', 'SerumCreatinine',\n",
        "    'BUNLevels', 'GFR', 'ProteinInUrine', 'ACR', 'SerumElectrolytesSodium',\n",
        "    'SerumElectrolytesPotassium', 'SerumElectrolytesCalcium', 'SerumElectrolytesPhosphorus',\n",
        "    'HemoglobinLevels', 'CholesterolTotal', 'CholesterolLDL', 'CholesterolHDL',\n",
        "    'CholesterolTriglycerides' , 'DoctorInCharge' , 'PatientID'\n",
        "]\n",
        "\n",
        "# Drop these columns\n",
        "df_clean = df.drop(columns=clinical_measurements)\n",
        "\n",
        "# Check the first few rows of the cleaned DataFrame to ensure the columns are dropped\n",
        "print(df_clean.head())"
      ],
      "metadata": {
        "colab": {
          "base_uri": "https://localhost:8080/"
        },
        "id": "il1cjDNqkXDH",
        "outputId": "692ca9a1-57f1-4c30-9f45-145a5492d06e"
      },
      "execution_count": null,
      "outputs": [
        {
          "output_type": "stream",
          "name": "stdout",
          "text": [
            "   Age  Gender  Ethnicity  SocioeconomicStatus  EducationLevel        BMI  \\\n",
            "0   71       0          0                    0               2  31.069414   \n",
            "1   34       0          0                    1               3  29.692119   \n",
            "2   80       1          1                    0               1  37.394822   \n",
            "3   40       0          2                    0               1  31.329680   \n",
            "4   43       0          1                    1               2  23.726311   \n",
            "\n",
            "   Smoking  AlcoholConsumption  PhysicalActivity  DietQuality  ...  \\\n",
            "0        1            5.128112          1.676220     0.240386  ...   \n",
            "1        1           18.609552          8.377574     6.503233  ...   \n",
            "2        1           11.882429          9.607401     2.104828  ...   \n",
            "3        0           16.020165          0.408871     6.964422  ...   \n",
            "4        0            7.944146          0.780319     3.097796  ...   \n",
            "\n",
            "   MuscleCramps   Itching  QualityOfLifeScore  HeavyMetalsExposure  \\\n",
            "0      4.518513  7.556302           76.076800                    0   \n",
            "1      2.202222  6.836766           40.128498                    0   \n",
            "2      5.967271  2.144722           92.872842                    0   \n",
            "3      2.176387  7.077188           90.080321                    0   \n",
            "4      6.800993  3.553118            5.258372                    0   \n",
            "\n",
            "   OccupationalExposureChemicals  WaterQuality  MedicalCheckupsFrequency  \\\n",
            "0                              0             1                  1.018824   \n",
            "1                              0             0                  3.923538   \n",
            "2                              1             1                  1.429906   \n",
            "3                              0             0                  3.226416   \n",
            "4                              0             1                  0.285466   \n",
            "\n",
            "   MedicationAdherence  HealthLiteracy  Diagnosis  \n",
            "0             4.966808        9.871449          1  \n",
            "1             8.189275        7.161765          1  \n",
            "2             7.624028        7.354632          1  \n",
            "3             3.282688        6.629587          1  \n",
            "4             3.849498        1.437385          1  \n",
            "\n",
            "[5 rows x 34 columns]\n"
          ]
        }
      ]
    },
    {
      "cell_type": "markdown",
      "source": [
        "# SPLITTING DATASET"
      ],
      "metadata": {
        "id": "qppvrEwhkrmc"
      }
    },
    {
      "cell_type": "code",
      "source": [
        "# Import train_test_split from sklearn.model_selection\n",
        "from sklearn.model_selection import train_test_split\n",
        "\n",
        "# Assuming 'target' is the name of your target variable\n",
        "# Replace 'target' with the actual name of your target variable column\n",
        "X = df_clean.drop('Diagnosis', axis=1)  # Features (all columns except the target)\n",
        "y = df_clean['Diagnosis']  # Target variable\n",
        "\n",
        "# Split the dataset into training (80%) and testing (20%) sets\n",
        "X_train, X_test, y_train, y_test = train_test_split(X, y, test_size=0.2, random_state=42)\n",
        "\n",
        "# Optionally, check the size of the train and test datasets\n",
        "print(\"Training set size:\", X_train.shape)\n",
        "print(\"Testing set size:\", X_test.shape)"
      ],
      "metadata": {
        "colab": {
          "base_uri": "https://localhost:8080/"
        },
        "id": "ZJzP4Vg6km92",
        "outputId": "786958c1-cc57-458c-feff-aeea5e4b118e"
      },
      "execution_count": null,
      "outputs": [
        {
          "output_type": "stream",
          "name": "stdout",
          "text": [
            "Training set size: (1327, 33)\n",
            "Testing set size: (332, 33)\n"
          ]
        }
      ]
    },
    {
      "cell_type": "markdown",
      "source": [
        "# CLASS IMBALANCE"
      ],
      "metadata": {
        "id": "MporjP8PoJww"
      }
    },
    {
      "cell_type": "code",
      "source": [
        "!pip install imbalanced-learn\n",
        "\n",
        "# Import necessary libraries\n",
        "from sklearn.model_selection import train_test_split\n",
        "from imblearn.over_sampling import SMOTE\n",
        "from collections import Counter\n",
        "\n",
        "# Assuming 'df_clean' is your cleaned DataFrame\n",
        "X = df_clean.drop('Diagnosis', axis=1)  # Features (all columns except the target)\n",
        "y = df_clean['Diagnosis']  # Target variable\n",
        "\n",
        "# Split the dataset into training (80%) and testing (20%) sets\n",
        "X_train, X_test, y_train, y_test = train_test_split(X, y, test_size=0.2, random_state=42)\n",
        "\n",
        "# Check the class distribution before SMOTE\n",
        "print(\"Class distribution in training set before SMOTE:\", Counter(y_train))\n",
        "\n",
        "# Apply SMOTE to the training set to handle class imbalance\n",
        "smote = SMOTE(random_state=42)\n",
        "X_train_resampled, y_train_resampled = smote.fit_resample(X_train, y_train)\n",
        "\n",
        "# Check the class distribution after SMOTE\n",
        "print(\"Class distribution in training set after SMOTE:\", Counter(y_train_resampled))\n",
        "\n",
        "# Optionally, check the size of the resampled training set\n",
        "print(\"Resampled training set size:\", X_train_resampled.shape)\n",
        "from sklearn.model_selection import train_test_split\n",
        "from imblearn.over_sampling import SMOTE\n",
        "from collections import Counter\n",
        "\n",
        "# Assuming 'df_clean' is your cleaned DataFrame\n",
        "X = df_clean.drop('Diagnosis', axis=1)  # Features (all columns except the target)\n",
        "y = df_clean['Diagnosis']  # Target variable\n",
        "\n",
        "# Split the dataset into training (80%) and testing (20%) sets\n",
        "X_train, X_test, y_train, y_test = train_test_split(X, y, test_size=0.2, random_state=42)\n",
        "\n",
        "# Check the class distribution before SMOTE\n",
        "print(\"Class distribution in training set before SMOTE:\", Counter(y_train))\n",
        "\n",
        "# Apply SMOTE to the training set to handle class imbalance\n",
        "smote = SMOTE(random_state=42)\n",
        "X_train_resampled, y_train_resampled = smote.fit_resample(X_train, y_train)\n",
        "\n",
        "# Check the class distribution after SMOTE\n",
        "print(\"Class distribution in training set after SMOTE:\", Counter(y_train_resampled))\n",
        "\n",
        "# Optionally, check the size of the resampled training set\n",
        "print(\"Resampled training set size:\", X_train_resampled.shape)\n"
      ],
      "metadata": {
        "colab": {
          "base_uri": "https://localhost:8080/"
        },
        "id": "2X_M7O8uoJHp",
        "outputId": "787e98a1-7bca-48bf-d400-ab9f42a8f7b5"
      },
      "execution_count": null,
      "outputs": [
        {
          "output_type": "stream",
          "name": "stdout",
          "text": [
            "Requirement already satisfied: imbalanced-learn in /usr/local/lib/python3.11/dist-packages (0.13.0)\n",
            "Requirement already satisfied: numpy<3,>=1.24.3 in /usr/local/lib/python3.11/dist-packages (from imbalanced-learn) (2.0.2)\n",
            "Requirement already satisfied: scipy<2,>=1.10.1 in /usr/local/lib/python3.11/dist-packages (from imbalanced-learn) (1.14.1)\n",
            "Requirement already satisfied: scikit-learn<2,>=1.3.2 in /usr/local/lib/python3.11/dist-packages (from imbalanced-learn) (1.6.1)\n",
            "Requirement already satisfied: sklearn-compat<1,>=0.1 in /usr/local/lib/python3.11/dist-packages (from imbalanced-learn) (0.1.3)\n",
            "Requirement already satisfied: joblib<2,>=1.1.1 in /usr/local/lib/python3.11/dist-packages (from imbalanced-learn) (1.4.2)\n",
            "Requirement already satisfied: threadpoolctl<4,>=2.0.0 in /usr/local/lib/python3.11/dist-packages (from imbalanced-learn) (3.6.0)\n",
            "Class distribution in training set before SMOTE: Counter({1: 1216, 0: 111})\n",
            "Class distribution in training set after SMOTE: Counter({1: 1216, 0: 1216})\n",
            "Resampled training set size: (2432, 33)\n",
            "Class distribution in training set before SMOTE: Counter({1: 1216, 0: 111})\n",
            "Class distribution in training set after SMOTE: Counter({1: 1216, 0: 1216})\n",
            "Resampled training set size: (2432, 33)\n"
          ]
        }
      ]
    },
    {
      "cell_type": "markdown",
      "source": [
        "# MACHINE LEARNING MODEL"
      ],
      "metadata": {
        "id": "jprjB19NpMNC"
      }
    },
    {
      "cell_type": "code",
      "source": [
        "# Import necessary libraries\n",
        "from sklearn.ensemble import ExtraTreesClassifier, GradientBoostingClassifier\n",
        "from xgboost import XGBClassifier\n",
        "from sklearn.svm import SVC\n",
        "from sklearn.metrics import classification_report, accuracy_score\n",
        "from sklearn.model_selection import cross_val_score\n",
        "import matplotlib.pyplot as plt\n",
        "import numpy as np\n",
        "\n",
        "# List of models to be evaluated\n",
        "models = {\n",
        "    'Extra Trees': ExtraTreesClassifier(random_state=42),\n",
        "    'XGBoost': XGBClassifier(random_state=42),\n",
        "    'Gradient Boosting': GradientBoostingClassifier(random_state=42),\n",
        "    'SVM': SVC(random_state=42)\n",
        "}\n",
        "\n",
        "# Create a dictionary to store classification reports and scores\n",
        "classification_reports = {}\n",
        "accuracy_scores = {}\n",
        "\n",
        "# Train and evaluate models\n",
        "for model_name, model in models.items():\n",
        "    # Fit the model to the resampled training data\n",
        "    model.fit(X_train_resampled, y_train_resampled)\n",
        "\n",
        "    # Predict on the test data\n",
        "    y_pred = model.predict(X_test)\n",
        "\n",
        "    # Store classification report and accuracy score\n",
        "    classification_reports[model_name] = classification_report(y_test, y_pred)\n",
        "    accuracy_scores[model_name] = accuracy_score(y_test, y_pred)\n",
        "\n",
        "    # Cross-validation score (optional)\n",
        "    cv_score = cross_val_score(model, X_train_resampled, y_train_resampled, cv=5, scoring='accuracy')\n",
        "    print(f\"{model_name} - CV Accuracy Score (mean): {cv_score.mean():.4f}\")\n",
        "\n",
        "# Print classification reports and accuracy scores for each model\n",
        "for model_name in models.keys():\n",
        "    print(f\"\\n{model_name} - Classification Report:\")\n",
        "    print(classification_reports[model_name])\n",
        "    print(f\"Accuracy Score: {accuracy_scores[model_name]:.4f}\")\n",
        "\n",
        "# Create a bar plot to compare the accuracy scores of all models\n",
        "model_names = list(models.keys())\n",
        "accuracy_values = list(accuracy_scores.values())\n",
        "\n",
        "plt.bar(model_names, accuracy_values, color='skyblue')\n",
        "plt.title('Model Accuracy Comparison')\n",
        "plt.xlabel('Model')\n",
        "plt.ylabel('Accuracy')\n",
        "plt.ylim(0, 1)\n",
        "plt.show()\n"
      ],
      "metadata": {
        "colab": {
          "base_uri": "https://localhost:8080/",
          "height": 1000
        },
        "id": "lz-7J37ApLqv",
        "outputId": "f63218fa-da59-4c09-9c4b-e39fd12890fb"
      },
      "execution_count": null,
      "outputs": [
        {
          "output_type": "stream",
          "name": "stdout",
          "text": [
            "Extra Trees - CV Accuracy Score (mean): 0.9289\n",
            "XGBoost - CV Accuracy Score (mean): 0.9441\n",
            "Gradient Boosting - CV Accuracy Score (mean): 0.9166\n",
            "SVM - CV Accuracy Score (mean): 0.7282\n",
            "\n",
            "Extra Trees - Classification Report:\n",
            "              precision    recall  f1-score   support\n",
            "\n",
            "           0       0.08      0.04      0.05        24\n",
            "           1       0.93      0.96      0.94       308\n",
            "\n",
            "    accuracy                           0.89       332\n",
            "   macro avg       0.50      0.50      0.50       332\n",
            "weighted avg       0.87      0.89      0.88       332\n",
            "\n",
            "Accuracy Score: 0.8946\n",
            "\n",
            "XGBoost - Classification Report:\n",
            "              precision    recall  f1-score   support\n",
            "\n",
            "           0       0.11      0.04      0.06        24\n",
            "           1       0.93      0.97      0.95       308\n",
            "\n",
            "    accuracy                           0.91       332\n",
            "   macro avg       0.52      0.51      0.51       332\n",
            "weighted avg       0.87      0.91      0.89       332\n",
            "\n",
            "Accuracy Score: 0.9066\n",
            "\n",
            "Gradient Boosting - Classification Report:\n",
            "              precision    recall  f1-score   support\n",
            "\n",
            "           0       0.11      0.12      0.12        24\n",
            "           1       0.93      0.92      0.92       308\n",
            "\n",
            "    accuracy                           0.86       332\n",
            "   macro avg       0.52      0.52      0.52       332\n",
            "weighted avg       0.87      0.86      0.87       332\n",
            "\n",
            "Accuracy Score: 0.8614\n",
            "\n",
            "SVM - Classification Report:\n",
            "              precision    recall  f1-score   support\n",
            "\n",
            "           0       0.09      0.38      0.15        24\n",
            "           1       0.94      0.70      0.80       308\n",
            "\n",
            "    accuracy                           0.68       332\n",
            "   macro avg       0.51      0.54      0.47       332\n",
            "weighted avg       0.87      0.68      0.76       332\n",
            "\n",
            "Accuracy Score: 0.6807\n"
          ]
        },
        {
          "output_type": "display_data",
          "data": {
            "text/plain": [
              "<Figure size 640x480 with 1 Axes>"
            ],
            "image/png": "[encoded data removed]"
          },
          "metadata": {}
        }
      ]
    },
    {
      "cell_type": "markdown",
      "source": [
        "# PREDICTIVE MODEL USING XGBOOST"
      ],
      "metadata": {
        "id": "f135Qo-QOgr4"
      }
    },
    {
      "cell_type": "code",
      "source": [
        "# Import necessary libraries\n",
        "import pandas as pd\n",
        "from xgboost import XGBClassifier\n",
        "from sklearn.metrics import classification_report, accuracy_score\n",
        "import joblib\n",
        "\n",
        "# Train XGBoost model\n",
        "xgb_model = XGBClassifier(random_state=42)\n",
        "xgb_model.fit(X_train_resampled, y_train_resampled)\n",
        "\n",
        "# Predict on the test data\n",
        "y_pred = xgb_model.predict(X_test)\n",
        "\n",
        "# Generate classification report and accuracy\n",
        "print(\"Classification Report for XGBoost:\")\n",
        "print(classification_report(y_test, y_pred))\n",
        "print(f\"Accuracy Score: {accuracy_score(y_test, y_pred):.4f}\")\n",
        "\n",
        "# Prepare test dataset with predictions and severity levels\n",
        "result_df = X_test.copy()\n",
        "result_df['Predicted Diagnosis'] = y_pred\n",
        "result_df['Severity Level'] = result_df['Predicted Diagnosis'].apply(lambda x: 'Low Risk' if x == 0 else 'High Risk')\n",
        "\n",
        "# Save the result to CSV\n",
        "output_path = '/content/drive/My Drive/H4H/positive_ckd_lowrisk_highrisk.csv'\n",
        "result_df.to_csv(output_path, index=False)\n",
        "\n",
        "print(f\"Dataset with severity levels saved to {output_path}\")\n",
        "\n",
        "# Save the trained XGBoost model\n",
        "model_save_path = '/content/drive/My Drive/H4H/xgboost_ckd_model.pkl'\n",
        "joblib.dump(xgb_model, model_save_path)\n",
        "print(f\"XGBoost model saved to {model_save_path}\")\n"
      ],
      "metadata": {
        "colab": {
          "base_uri": "https://localhost:8080/"
        },
        "id": "T2EWzzUqOarA",
        "outputId": "e6dfcc9a-eead-490b-fe1c-fcd57cd204bf"
      },
      "execution_count": null,
      "outputs": [
        {
          "output_type": "stream",
          "name": "stdout",
          "text": [
            "Classification Report for XGBoost:\n",
            "              precision    recall  f1-score   support\n",
            "\n",
            "           0       0.11      0.04      0.06        24\n",
            "           1       0.93      0.97      0.95       308\n",
            "\n",
            "    accuracy                           0.91       332\n",
            "   macro avg       0.52      0.51      0.51       332\n",
            "weighted avg       0.87      0.91      0.89       332\n",
            "\n",
            "Accuracy Score: 0.9066\n",
            "Dataset with severity levels saved to /content/drive/My Drive/H4H/positive_ckd_lowrisk_highrisk.csv\n",
            "XGBoost model saved to /content/drive/My Drive/H4H/xgboost_ckd_model.pkl\n"
          ]
        }
      ]
    },
    {
      "cell_type": "markdown",
      "source": [
        "# SEVERITY LEVEL CLASSIFICATION"
      ],
      "metadata": {
        "id": "nYfdL4eSuTSR"
      }
    },
    {
      "cell_type": "code",
      "source": [
        "# Import necessary libraries\n",
        "from xgboost import XGBClassifier\n",
        "from sklearn.metrics import classification_report, accuracy_score\n",
        "from sklearn.model_selection import train_test_split\n",
        "import pandas as pd\n",
        "\n",
        "# Assuming the XGBoost model gives the best accuracy from previous steps\n",
        "# Fit the XGBoost model to the resampled training data\n",
        "xgb_model = XGBClassifier(random_state=42)\n",
        "xgb_model.fit(X_train_resampled, y_train_resampled)\n",
        "\n",
        "# Predict on the test data\n",
        "y_pred = xgb_model.predict(X_test)\n",
        "\n",
        "# Print the classification report and accuracy score for XGBoost\n",
        "print(\"XGBoost - Classification Report:\")\n",
        "print(classification_report(y_test, y_pred))\n",
        "print(f\"Accuracy Score: {accuracy_score(y_test, y_pred):.4f}\")\n",
        "\n",
        "# Separate the data for Positive CKD (1)\n",
        "positive_ckd_data = X_test[y_pred == 1]\n",
        "\n",
        "# Add the target variable (Diagnosis) back to the data\n",
        "positive_ckd_data['Diagnosis'] = 1\n",
        "\n",
        "# Add the severity level based on the conditions provided\n",
        "def classify_severity(row):\n",
        "    if row['Itching'] >= 9.1 and row['MuscleCramps'] >= 6:\n",
        "        return 'Very High'\n",
        "    elif (row['Itching'] >= 7.0 and row['MuscleCramps'] >= 6) or (row['Itching'] >= 9.1 and row['MuscleCramps'] >= 3):\n",
        "        return 'High'\n",
        "    elif (row['Itching'] >= 3.0 and row['MuscleCramps'] >= 3) or (row['Itching'] >= 7.0 and row['MuscleCramps'] >= 2):\n",
        "        return 'Medium'\n",
        "    else:\n",
        "        return 'Low'\n",
        "\n",
        "# Apply the function to classify severity for positive CKD data\n",
        "positive_ckd_data['Severity_Level'] = positive_ckd_data.apply(classify_severity, axis=1)\n",
        "\n",
        "# Show the final data with severity levels\n",
        "print(\"\\nPositive CKD Data with Severity Levels:\")\n",
        "print(positive_ckd_data[['Itching', 'MuscleCramps', 'Severity_Level']])\n",
        "\n",
        "# First, mount Google Drive\n",
        "from google.colab import drive\n",
        "drive.mount('/content/drive')\n",
        "\n",
        "# Use shutil to move the file to your Google Drive\n",
        "import shutil\n",
        "\n",
        "# Move the file to the specified Google Drive folder\n",
        "shutil.move('positive_ckd_with_severity.csv', '/content/drive/My Drive/H4H/positive_ckd_with_severity.csv')\n",
        "\n",
        "print(\"File moved to Google Drive successfully!\")\n"
      ],
      "metadata": {
        "colab": {
          "base_uri": "https://localhost:8080/"
        },
        "id": "RCHYajaYuXCm",
        "outputId": "a62b0b9b-0086-4e9f-c8c1-fe6457be9db2"
      },
      "execution_count": null,
      "outputs": [
        {
          "output_type": "stream",
          "name": "stdout",
          "text": [
            "XGBoost - Classification Report:\n",
            "              precision    recall  f1-score   support\n",
            "\n",
            "           0       0.11      0.04      0.06        24\n",
            "           1       0.93      0.97      0.95       308\n",
            "\n",
            "    accuracy                           0.91       332\n",
            "   macro avg       0.52      0.51      0.51       332\n",
            "weighted avg       0.87      0.91      0.89       332\n",
            "\n",
            "Accuracy Score: 0.9066\n",
            "\n",
            "Positive CKD Data with Severity Levels:\n",
            "       Itching  MuscleCramps Severity_Level\n",
            "1043  6.066073      5.575213         Medium\n",
            "352   9.372513      0.435502            Low\n",
            "1290  3.571893      3.638924         Medium\n",
            "1047  1.654583      1.821986            Low\n",
            "1453  4.472883      2.487217            Low\n",
            "...        ...           ...            ...\n",
            "1577  5.648067      3.836201         Medium\n",
            "1169  3.487880      6.943905         Medium\n",
            "163   0.491504      2.758476            Low\n",
            "1324  1.907526      4.366982            Low\n",
            "886   1.728728      5.154680            Low\n",
            "\n",
            "[323 rows x 3 columns]\n"
          ]
        },
        {
          "output_type": "stream",
          "name": "stderr",
          "text": [
            "<ipython-input-10-16c22d125a17>:24: SettingWithCopyWarning: \n",
            "A value is trying to be set on a copy of a slice from a DataFrame.\n",
            "Try using .loc[row_indexer,col_indexer] = value instead\n",
            "\n",
            "See the caveats in the documentation: https://pandas.pydata.org/pandas-docs/stable/user_guide/indexing.html#returning-a-view-versus-a-copy\n",
            "  positive_ckd_data['Diagnosis'] = 1\n",
            "<ipython-input-10-16c22d125a17>:38: SettingWithCopyWarning: \n",
            "A value is trying to be set on a copy of a slice from a DataFrame.\n",
            "Try using .loc[row_indexer,col_indexer] = value instead\n",
            "\n",
            "See the caveats in the documentation: https://pandas.pydata.org/pandas-docs/stable/user_guide/indexing.html#returning-a-view-versus-a-copy\n",
            "  positive_ckd_data['Severity_Level'] = positive_ckd_data.apply(classify_severity, axis=1)\n"
          ]
        },
        {
          "output_type": "stream",
          "name": "stdout",
          "text": [
            "Drive already mounted at /content/drive; to attempt to forcibly remount, call drive.mount(\"/content/drive\", force_remount=True).\n",
            "File moved to Google Drive successfully!\n"
          ]
        }
      ]
    }
  ]
}